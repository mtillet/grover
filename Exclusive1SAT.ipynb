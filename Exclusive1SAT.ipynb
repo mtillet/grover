{
 "cells": [
  {
   "cell_type": "markdown",
   "metadata": {},
   "source": [
    "## *Implementation of a general 1-Exclusive SAT problem Solver*\n",
    "\n",
    "#### Presentation of the problem\n",
    "\n",
    "The 1-Exclusive SAT problem is a satisfiability problem, in which a solution must satisfy every clause, with only one condition being True for each clause. As an example, consider the following instance :\n",
    "$$ (x_1 \\vee x_2 \\vee \\neg x_3) \\wedge (\\neg x_1 \\vee \\neg x_2 \\vee \\neg x3) \\wedge (\\neg x_1 \\vee x_2 \\vee x_3)$$\n",
    "\n",
    "The unique solution to this instance is $x_1 = True, x_2 = False, x_3 = True$"
   ]
  },
  {
   "cell_type": "markdown",
   "metadata": {},
   "source": [
    "The quantum algorithm designed to tackle this problem is based on the Grover operator. The flip around the mean being identical to the one used in the Grover algorithm, the only difficulty is to design the oracle.\n",
    "\n",
    "We denote $(x_i)_{1 \\leq i \\leq n}$ the variables of the problem, $(C_j)_{1 \\leq j \\leq m}$ the clauses.\n",
    "\n",
    "The oracle is constructed as follow : for each clause, initialize the states using X gates for NOT. Then, check the 1-Exclusive condition by applying on every variable within the clause every possibility of controlled-(2i + 1) gate, toward another zeroed target qubit. \n",
    "In other words, as an example, if the clause contains the variables $(x_i)_{1 \\leq i \\leq 5}$, and a target qubit y is devoted to it, the operations will be:\n",
    "* CNOT on $x_1 ... x_5$, targeting y\n",
    "* 3 qubits - Controlled NOT on $x_1, x_2, x_3$; $x_1, x_2, x_4$; $x_1, x_2, x_5$; $x_1, x_3, x_4$; $x_1, x_3, x_5$; $x_1, x_4, x_5$; $x_2, x_3, x_4$; $x_2, x_3, x_5$; $x_2, x_4, x_5$; $x_3, x_4, x_5$\n",
    "* 5 qubits - Controlled NOT on $x_1, x_2, x_3, x_4, x_5$"
   ]
  },
  {
   "cell_type": "code",
   "execution_count": 1,
   "metadata": {},
   "outputs": [
    {
     "name": "stdout",
     "output_type": "stream",
     "text": [
      "Account loaded\n"
     ]
    }
   ],
   "source": [
    "from itertools import combinations\n",
    "from math import ceil, sqrt, pi\n",
    "from qiskit import QuantumCircuit, ClassicalRegister, QuantumRegister\n",
    "\n",
    "from utils import launch, plot_hist, cnx_o\n",
    "\n",
    "\n",
    "def add_clause(circ, qr, clause, index):\n",
    "    \"\"\"\n",
    "    Add a clause to the circuit\n",
    "    :param circ: circuit\n",
    "    :param qr: quantum registers\n",
    "    :param clause: a clause of the SAT problem, using any number of variables\n",
    "    :param index: the index of the quantum register which will carry the result of the evaluation of the clause\n",
    "    :return:\n",
    "    \"\"\"\n",
    "    # indexes of the qubits carrying the variables\n",
    "    cont = [qr[abs(i)] for i in clause]\n",
    "    \n",
    "    # negates the qbits with NOT on the clause\n",
    "    for i in clause:\n",
    "        if i < 0:\n",
    "            circ.x(qr[-i])\n",
    "\n",
    "    # iterates on odd controlled not\n",
    "    for control_len in range(1, len(clause)+1, 2):\n",
    "        conts = combinations(cont, control_len)\n",
    "\n",
    "        for controls in conts:\n",
    "            cnx_o(circ, qr, list(controls), qr[index], qr[0])\n",
    "\n",
    "    # brings the negated qubits to their original value\n",
    "    for i in clause:\n",
    "        if i < 0:\n",
    "            circ.x(qr[-i])"
   ]
  },
  {
   "cell_type": "markdown",
   "metadata": {},
   "source": [
    "It is possible to show (see Appendix) this serie of operations will leave the target qubit y in its zero state in every case except the ones where the clause is validated by only one variable. Hence the state of the system after a clause have been applicated will be :\n",
    "$$|\\phi> = \\sum_{x \\in V_C} |x>|1> + \\sum_{x \\not \\in V_C} |x>|0>$$\n",
    "with $V_C$ the set of families of variables which verify the clause with 1-Exclusivity, $|0>$ and $|1>$ being the state of y."
   ]
  },
  {
   "cell_type": "code",
   "execution_count": 2,
   "metadata": {},
   "outputs": [
    {
     "data": {
      "text/html": [
       "<pre style=\"word-wrap: normal;white-space: pre;line-height: 15px;\">                             ┌───┐     ┌───┐          \n",
       "q0_0: |0>────────────────────┤ X ├──■──┤ X ├──■───────\n",
       "                             └─┬─┘  │  └─┬─┘  │       \n",
       "q0_1: |0>──■───────────────────┼────■────┼────■───────\n",
       "           │                   │    │    │    │       \n",
       "q0_2: |0>──┼─────────■─────────■────┼────■────┼───────\n",
       "           │  ┌───┐  │         │    │    │    │  ┌───┐\n",
       "q0_3: |0>──┼──┤ X ├──┼────■────■────┼────■────┼──┤ X ├\n",
       "         ┌─┴─┐└───┘┌─┴─┐┌─┴─┐     ┌─┴─┐     ┌─┴─┐└───┘\n",
       "q0_4: |0>┤ X ├─────┤ X ├┤ X ├─────┤ X ├─────┤ X ├─────\n",
       "         └───┘     └───┘└───┘     └───┘     └───┘     </pre>"
      ],
      "text/plain": [
       "<qiskit.visualization.text.TextDrawing at 0x21ba824e3c8>"
      ]
     },
     "execution_count": 2,
     "metadata": {},
     "output_type": "execute_result"
    }
   ],
   "source": [
    "qr = QuantumRegister(5)\n",
    "circ = QuantumCircuit(qr)\n",
    "\n",
    "add_clause(circ, qr, [1, 2, -3], 4)\n",
    "circ.draw()"
   ]
  },
  {
   "cell_type": "code",
   "execution_count": 3,
   "metadata": {},
   "outputs": [
    {
     "name": "stdout",
     "output_type": "stream",
     "text": [
      "{'0001': 123, '0011': 129, '0111': 133, '1101': 134, '1000': 128, '1110': 113, '0010': 135, '0100': 129}\n"
     ]
    }
   ],
   "source": [
    "cr = ClassicalRegister(4)\n",
    "circ = QuantumCircuit(qr, cr)\n",
    "\n",
    "for i in range(3):\n",
    "    circ.h(qr[i+1])\n",
    "circ.barrier()\n",
    "add_clause(circ, qr, [1, 2, -3], 4)\n",
    "for i in range(4):\n",
    "    circ.measure(qr[i+1], cr[i])\n",
    "\n",
    "print(launch(circ, backend_type='local'))"
   ]
  },
  {
   "cell_type": "markdown",
   "metadata": {},
   "source": [
    "Once each clause have been computed, its result being stored on a different qubit, the last step is to flip the sign of the qubits storing the variables if all the \"clauses' results\" qubits are True. It is achieved with what is basically a controlled-Z on all these qubits, toward one of the variable qubits."
   ]
  },
  {
   "cell_type": "code",
   "execution_count": 4,
   "metadata": {},
   "outputs": [],
   "source": [
    "def sign_flip(circ, qr, controls):\n",
    "    \"\"\"\n",
    "    Flips the sign of the states whose control qubits are all one\n",
    "    :param circ: circuit\n",
    "    :param qr: quantum registers\n",
    "    :param controls: m qubits which ensure the correctness of the solution\n",
    "    :return:\n",
    "    \"\"\"\n",
    "    circ.u1(pi, qr[1])\n",
    "    cnx_o(circ, qr, controls, qr[1], qr[0])\n",
    "    circ.u1(pi, qr[1])\n",
    "    cnx_o(circ, qr, controls, qr[1], qr[0])\n"
   ]
  },
  {
   "cell_type": "markdown",
   "metadata": {},
   "source": [
    "After this, it is necessary to bring the checking qubits back to zero, by applying once again all the clauses."
   ]
  },
  {
   "cell_type": "code",
   "execution_count": 5,
   "metadata": {},
   "outputs": [],
   "source": [
    "def oracle_3sat(circ, qr, clauses, var_nb):\n",
    "    \"\"\"\n",
    "    Oracle for an Exclusive 1 SAT problem\n",
    "    :param circ: circuit\n",
    "    :param qr: quantum registers\n",
    "    :param clauses: lists of clauses (see ex_1_3SAT)\n",
    "    :param var_nb: number of variables\n",
    "    :return:\n",
    "    \"\"\"\n",
    "    nb_qbits = var_nb + len(clauses) + 1\n",
    "\n",
    "    # adds every clause operator\n",
    "    for i, clause in enumerate(clauses):\n",
    "        add_clause(circ, qr, clause, var_nb + i + 1)\n",
    "\n",
    "    # list of the qubits carrying the result of the clauses\n",
    "    clauses_checkers = [qr[i] for i in range(var_nb+1, nb_qbits)]\n",
    "    \n",
    "    # flips the sign\n",
    "    sign_flip(circ, qr, clauses_checkers)\n",
    "\n",
    "    # removes the effect of every clause, by just applying them again\n",
    "    for i, clause in enumerate(clauses):\n",
    "        add_clause(circ, qr, clause, var_nb + i + 1)"
   ]
  },
  {
   "cell_type": "markdown",
   "metadata": {},
   "source": [
    "Then one can apply Grover's flip around the mean, and do the whole process all over again as many times as necessary (optimally, $\\frac{\\pi}{4} \\sqrt{2^n}$)"
   ]
  },
  {
   "cell_type": "code",
   "execution_count": 6,
   "metadata": {},
   "outputs": [
    {
     "name": "stdout",
     "output_type": "stream",
     "text": [
      "Depth :  132\n",
      "Qbits :  10\n",
      "Number of gates :  {'h': 19, 'x': 52, 'cx': 36, 'ccx': 66, 'u1': 4, 'measure': 3}\n",
      "{'101': 978, '001': 7, '011': 4, '000': 7, '111': 10, '110': 7, '010': 7, '100': 4}\n"
     ]
    },
    {
     "data": {
      "image/png": "[encoded data removed]",
      "text/plain": [
       "<Figure size 432x288 with 1 Axes>"
      ]
     },
     "metadata": {
      "needs_background": "light"
     },
     "output_type": "display_data"
    }
   ],
   "source": [
    "def grover_flip(circ, qr, to_flip):\n",
    "    \"\"\"\n",
    "    Flip the amplitudes around the mean\n",
    "    :param circ: circuit\n",
    "    :param qr: quantum registers\n",
    "    :param to_flip: list of the registers carrying the values of the variables\n",
    "    :return:\n",
    "    \"\"\"\n",
    "    for qr_i in to_flip:\n",
    "        circ.h(qr_i)\n",
    "        circ.x(qr_i)\n",
    "    circ.h(to_flip[0])\n",
    "    cnx_o(circ, qr, to_flip[1:], to_flip[0], qr[0])\n",
    "    circ.h(to_flip[0])\n",
    "    for qr_i in to_flip:\n",
    "        circ.x(qr_i)\n",
    "        circ.h(qr_i)\n",
    "\n",
    "def ex_1_3sat_circuit(var_nb, clauses, nb_grover=-1):\n",
    "    \"\"\"\n",
    "    Builds the circuit associated with the SAT problem\n",
    "    :param var_nb: number of variables\n",
    "    :param clauses: list of the clauses\n",
    "    :param nb_grover: number of applications of grover's operator\n",
    "    :return: the circuit object, and the quantum registers\n",
    "    \"\"\"\n",
    "    nb_qbits = var_nb + len(clauses) + 1\n",
    "    qr = QuantumRegister(nb_qbits)\n",
    "    cr = ClassicalRegister(var_nb)\n",
    "    # convention : 0: lost, 1-var_nb : variables; var_nb+1-nb_qubits : clause results;\n",
    "    circ = QuantumCircuit(qr, cr)\n",
    "\n",
    "    # superposition of the states of the variables\n",
    "    for i in range(1, var_nb + 1):\n",
    "        circ.h(qr[i])\n",
    "\n",
    "    if nb_grover < 0: \n",
    "        # this is the theoretical optimal number of iterations\n",
    "        # although, in practical cases, it can be preferable to iterate on a lesser number so the program is shorter\n",
    "        nb_grover = ceil(sqrt(var_nb)*pi/4)\n",
    "\n",
    "    for _ in range(nb_grover):\n",
    "        oracle_3sat(circ, qr, clauses, var_nb)\n",
    "        grover_flip(circ, qr, [qr[i] for i in range(1, var_nb + 1)])\n",
    "\n",
    "    # mesure the variables at the end\n",
    "    for i in range(var_nb):\n",
    "        circ.measure(qr[i+1], cr[i])\n",
    "\n",
    "    return circ, qr\n",
    "\n",
    "def ex_1_3sat(var_nb, clauses, backend='local'):\n",
    "    \"\"\"\n",
    "    Using Grover's algorithm, exhibit the solution of an Exclusive-1 SAT problem\n",
    "    :param var_nb: number of variables in the problem\n",
    "    :param clauses: list of clauses\n",
    "    (themselves lists of numbers, indicating the variables used in the clause with their index starting from 1,\n",
    "    being negative numbers if the variable is NOTed )\n",
    "    :param backend: backend to use to run the algorithm. Options are 'local', \n",
    "    'q' (for the best quantum computer available) or 'hpc' for the 32 qubits simulator\n",
    "    :return:\n",
    "    \"\"\"\n",
    "    circ, _ = ex_1_3sat_circuit(var_nb, clauses)\n",
    "    res = launch(circ, backend_type=backend, verbose=True)\n",
    "    print(res)\n",
    "    plot_hist(res)\n",
    "\n",
    "# the instance presented at the beginning\n",
    "ex_1_3sat(3, [[1, 2, -3], [-1, -2, -3], [-1, 2, 3]])\n"
   ]
  },
  {
   "cell_type": "markdown",
   "metadata": {},
   "source": [
    "The previous example exhibits the result expected with very high probability on simulator. However, on the real devices, the circuit is too long to be executed, and results are almost random (to shorten the circuit, it is possible to iterate only once. According to the simulator, the results yield are mostly the same as with the optimal number of iterations, but the circuit is much shorter, but still too long).\n",
    "\n",
    "Note : the results are inverted with regards with the variables, ie the output states are $x_n x_{n-1} ... x_1$"
   ]
  },
  {
   "cell_type": "markdown",
   "metadata": {},
   "source": [
    "#### Appendix\n",
    "\n",
    "This is a quick proof of the correctness of the design of the clause operator. What is needed to prove is that an odd number of NOT gates is applied to the target qubit if and only if exactly one of the variable in the clause is True.\n",
    "\n",
    "Let $l$ be the number of variables set to True, ie the number of qubits whose value after the X gates is one (of course, we are speaking in terms of pure states, but it works similarly for superposed states, as usual), $p$ the number of variables in the clause (3 in a 3SAT problem).\n",
    "\n",
    "Then, for the sequence of $(2i+1)$qubits-Controlled-NOT (every possibility over the $p$ qubits), there will be ${l \\choose {2i+1}}$ NOT applied to the target qubit.\n",
    "\n",
    "Thus, if $l=2r + 1$, the total number of NOT will be\n",
    "\n",
    "$$ \\sum_{i=0}^r {{2r+1} \\choose {2i+1}} = \\sum_{i=0}^r {{2r+1} \\choose {i}} = \\frac{1}{2}\\sum_{i=0}^{2r+1} {{2r+1} \\choose {i}} = 2^{2r}$$\n",
    "\n",
    "which is even, except if $r = 0$, ie $l = 1$.\n",
    "\n",
    "If $l = 2r$, we have\n",
    "\n",
    "$$ \\sum_{i=0}^r {{2r} \\choose {2i+1}} = \\sum_{i=0}^{r/2 - 1} {{2r+1} \\choose {2i+1}} + \\sum_{i=r/2 + 1}^r {{2r+1} \\choose {2i+1}} + \\alpha_r = 2\\sum_{i=0}^{r/2 - 1} {{2r+1} \\choose {2i+1}} + \\alpha_r$$\n",
    "\n",
    "with $\\alpha_r = {{2r} \\choose r}$ if $r$ is even, $0$ if it is odd. Yet $ \\alpha_r = {{2r} \\choose r} = {{2r - 1} \\choose r} + {{2r - 1} \\choose {r - 1}} = 2{{2r-1} \\choose r}$ is even. Thus, in every case, the number of NOT will be even if $l$ is even.\n",
    "\n",
    "Thus this clause operator will behave as expected. "
   ]
  },
  {
   "cell_type": "code",
   "execution_count": null,
   "metadata": {},
   "outputs": [],
   "source": []
  }
 ],
 "metadata": {
  "kernelspec": {
   "display_name": "Python 3",
   "language": "python",
   "name": "python3"
  },
  "language_info": {
   "codemirror_mode": {
    "name": "ipython",
    "version": 3
   },
   "file_extension": ".py",
   "mimetype": "text/x-python",
   "name": "python",
   "nbconvert_exporter": "python",
   "pygments_lexer": "ipython3",
   "version": "3.7.2"
  }
 },
 "nbformat": 4,
 "nbformat_minor": 2
}
