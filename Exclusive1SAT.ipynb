{
 "cells": [
  {
   "cell_type": "markdown",
   "metadata": {},
   "source": [
    "## *Implementation of a general 1-Exclusive SAT problem Solver*\n",
    "\n",
    "#### Presentation of the problem\n",
    "\n",
    "The 1-Exclusive SAT problem is a satisfiability problem, in which a solution must satisfy every clause, with only one condition being True for each clause. As an example, consider the following instance :\n",
    "$$ (x_1 \\vee x_2 \\vee \\neg x_3) \\wedge (\\neg x_1 \\vee \\neg x_2 \\vee \\neg x3) \\wedge (\\neg x_1 \\vee x_2 \\vee x_3)$$\n",
    "\n",
    "The unique solution to this instance is $x_1 = True, x_2 = False, x_3 = True$"
   ]
  },
  {
   "cell_type": "markdown",
   "metadata": {},
   "source": [
    "However, here, we do not consider the classical satisfiability problem (is there a solution ?), but we rather seek the solution of a satisfiable instance. In fact, in this current implementation, if there is more than one solution satisfying the instance, the result is not garanteed to be of good quality. Thus this algorithm can tell if there is one and only one solution to one of these problem, and if so, what is this solution, with high probability.\n",
    "\n",
    "The quantum algorithm designed to tackle this problem is based on the Grover operator. The flip around the mean being identical to the one used in the Grover algorithm, the only difficulty is to design the oracle.\n",
    "\n",
    "We denote $(x_i)_{1 \\leq i \\leq n}$ the variables of the problem, $(C_j)_{1 \\leq j \\leq m}$ the clauses.\n",
    "\n",
    "The oracle is constructed as follow : for each clause, initialize the states using X gates for NOT. Then, check the 1-Exclusive condition by applying on every variable within the clause every possibility of controlled-(2i + 1) gate, toward another zeroed target qubit. \n",
    "In other words, as an example, if the clause contains the variables $(x_i)_{1 \\leq i \\leq 5}$, and a target qubit y is devoted to it, the operations will be:\n",
    "* CNOT on $x_1 ... x_5$, targeting y\n",
    "* 3 qubits - Controlled NOT on $x_1, x_2, x_3$; $x_1, x_2, x_4$; $x_1, x_2, x_5$; $x_1, x_3, x_4$; $x_1, x_3, x_5$; $x_1, x_4, x_5$; $x_2, x_3, x_4$; $x_2, x_3, x_5$; $x_2, x_4, x_5$; $x_3, x_4, x_5$\n",
    "* 5 qubits - Controlled NOT on $x_1, x_2, x_3, x_4, x_5$"
   ]
  },
  {
   "cell_type": "code",
   "execution_count": 1,
   "metadata": {},
   "outputs": [],
   "source": [
    "from itertools import combinations\n",
    "from math import ceil, sqrt, pi\n",
    "from qiskit import QuantumCircuit, ClassicalRegister, QuantumRegister, execute, BasicAer\n",
    "from qiskit.aqua.circuits.gates import mct\n",
    "from qiskit.visualization import plot_histogram\n",
    "\n",
    "# we use an implementation of the multi qubit controlled Toffoli gate more efficient than Aqua's mct, to gain some gates\n",
    "from multi_controlled_toffoli import cnx_o\n",
    "\n",
    "\n",
    "def add_clause(circ, qr, clause, index):\n",
    "    \"\"\"\n",
    "    Add a clause to the circuit\n",
    "    :param circ: circuit\n",
    "    :param qr: quantum registers\n",
    "    :param clause: a clause of the SAT problem, using any number of variables\n",
    "    :param index: the index of the quantum register which will carry the result of the evaluation of the clause\n",
    "    :return:\n",
    "    \"\"\"\n",
    "    # indexes of the qubits carrying the variables\n",
    "    cont = [qr[abs(i)] for i in clause]\n",
    "    \n",
    "    # negates the qbits with NOT on the clause\n",
    "    for i in clause:\n",
    "        if i < 0:\n",
    "            circ.x(qr[-i])\n",
    "\n",
    "    # iterates on odd controlled not\n",
    "    for control_len in range(1, len(clause)+1, 2):\n",
    "        conts = combinations(cont, control_len)\n",
    "\n",
    "        for controls in conts:\n",
    "            # cnx_o(circ, qr, list(controls), qr[index], qr[0])\n",
    "            cnx_o(circ, qr, list(controls), qr[index], qr[0])\n",
    "\n",
    "    # brings the negated qubits to their original value\n",
    "    for i in clause:\n",
    "        if i < 0:\n",
    "            circ.x(qr[-i])"
   ]
  },
  {
   "cell_type": "markdown",
   "metadata": {},
   "source": [
    "It is possible to show (see Appendix) this serie of operations will leave the target qubit y in its zero state in every case except the ones where the clause is validated by only one variable. Hence the state of the system after a clause have been applicated will be :\n",
    "$$|\\phi> = \\sum_{x \\in V_C} |x>|1> + \\sum_{x \\not \\in V_C} |x>|0>$$\n",
    "with $V_C$ the set of families of variables which verify the clause with 1-Exclusivity, $|0>$ and $|1>$ being the state of y."
   ]
  },
  {
   "cell_type": "code",
   "execution_count": 2,
   "metadata": {},
   "outputs": [
    {
     "data": {
      "text/html": [
       "<pre style=\"word-wrap: normal;white-space: pre;line-height: 15px;\">                             ┌───┐     ┌───┐          \n",
       "q0_0: |0>────────────────────┤ X ├──■──┤ X ├──■───────\n",
       "                             └─┬─┘  │  └─┬─┘  │       \n",
       "q0_1: |0>──■───────────────────┼────■────┼────■───────\n",
       "           │                   │    │    │    │       \n",
       "q0_2: |0>──┼─────────■─────────■────┼────■────┼───────\n",
       "           │  ┌───┐  │         │    │    │    │  ┌───┐\n",
       "q0_3: |0>──┼──┤ X ├──┼────■────■────┼────■────┼──┤ X ├\n",
       "         ┌─┴─┐└───┘┌─┴─┐┌─┴─┐     ┌─┴─┐     ┌─┴─┐└───┘\n",
       "q0_4: |0>┤ X ├─────┤ X ├┤ X ├─────┤ X ├─────┤ X ├─────\n",
       "         └───┘     └───┘└───┘     └───┘     └───┘     </pre>"
      ],
      "text/plain": [
       "<qiskit.visualization.text.TextDrawing at 0x288f3423278>"
      ]
     },
     "execution_count": 2,
     "metadata": {},
     "output_type": "execute_result"
    }
   ],
   "source": [
    "qr = QuantumRegister(5)\n",
    "circ = QuantumCircuit(qr)\n",
    "\n",
    "add_clause(circ, qr, [1, 2, -3], 4)\n",
    "circ.draw()"
   ]
  },
  {
   "cell_type": "code",
   "execution_count": 3,
   "metadata": {},
   "outputs": [
    {
     "data": {
      "image/png": "[encoded data removed]",
      "text/plain": [
       "<Figure size 504x360 with 1 Axes>"
      ]
     },
     "execution_count": 3,
     "metadata": {},
     "output_type": "execute_result"
    }
   ],
   "source": [
    "cr = ClassicalRegister(4)\n",
    "circ = QuantumCircuit(qr, cr)\n",
    "\n",
    "for i in range(3):\n",
    "    circ.h(qr[i+1])\n",
    "circ.barrier()\n",
    "add_clause(circ, qr, [1, 2, -3], 4)\n",
    "for i in range(4):\n",
    "    circ.measure(qr[i+1], cr[i])\n",
    "\n",
    "job = execute(circ, backend=BasicAer.get_backend(\"qasm_simulator\"))\n",
    "res = job.result().get_counts()\n",
    "plot_histogram(res)"
   ]
  },
  {
   "cell_type": "markdown",
   "metadata": {},
   "source": [
    "One can check that the first bit is one if and only if the last ones verify the 1-Exclusive condition for the clause \n",
    "$$ x_1 \\vee x_2 \\vee \\neg x_3 $$\n"
   ]
  },
  {
   "cell_type": "markdown",
   "metadata": {},
   "source": [
    "Once each clause have been computed, its result being stored on a different qubit, the last step is to flip the sign of the qubits storing the variables if all the \"clauses' results\" qubits are True. It is achieved with what is basically a controlled-Z on all these control qubits, toward one of the variable qubits."
   ]
  },
  {
   "cell_type": "code",
   "execution_count": 4,
   "metadata": {},
   "outputs": [],
   "source": [
    "def sign_flip(circ, qr, controls):\n",
    "    \"\"\"\n",
    "    Flips the sign of the states whose control qubits are all one\n",
    "    :param circ: circuit\n",
    "    :param qr: quantum registers\n",
    "    :param controls: m qubits which ensure the correctness of the solution\n",
    "    :return:\n",
    "    \"\"\"\n",
    "    circ.u1(pi, qr[1])\n",
    "    cnx_o(circ, qr, controls, qr[1], qr[0])\n",
    "    circ.u1(pi, qr[1])\n",
    "    cnx_o(circ, qr, controls, qr[1], qr[0])\n"
   ]
  },
  {
   "cell_type": "markdown",
   "metadata": {},
   "source": [
    "After this, it is necessary to bring the checking qubits back to zero, by applying once again all the clauses."
   ]
  },
  {
   "cell_type": "code",
   "execution_count": 5,
   "metadata": {},
   "outputs": [],
   "source": [
    "def oracle_3sat(circ, qr, clauses, var_nb):\n",
    "    \"\"\"\n",
    "    Oracle for an Exclusive 1 SAT problem\n",
    "    :param circ: circuit\n",
    "    :param qr: quantum registers\n",
    "    :param clauses: lists of clauses (see ex_1_3SAT)\n",
    "    :param var_nb: number of variables\n",
    "    :return:\n",
    "    \"\"\"\n",
    "    nb_qbits = var_nb + len(clauses) + 1\n",
    "\n",
    "    # adds every clause operator\n",
    "    for i, clause in enumerate(clauses):\n",
    "        add_clause(circ, qr, clause, var_nb + i + 1)\n",
    "\n",
    "    # list of the qubits carrying the result of the clauses\n",
    "    clauses_checkers = [qr[i] for i in range(var_nb+1, nb_qbits)]\n",
    "    \n",
    "    # flips the sign\n",
    "    sign_flip(circ, qr, clauses_checkers)\n",
    "\n",
    "    # removes the effect of every clause, by just applying them again\n",
    "    for i, clause in enumerate(clauses):\n",
    "        add_clause(circ, qr, clause, var_nb + i + 1)"
   ]
  },
  {
   "cell_type": "markdown",
   "metadata": {},
   "source": [
    "Then one can apply Grover's flip around the mean, and do the whole process all over again as many times as necessary (optimally, $\\frac{\\pi}{4} \\sqrt{2^n}$)"
   ]
  },
  {
   "cell_type": "code",
   "execution_count": 6,
   "metadata": {},
   "outputs": [
    {
     "name": "stdout",
     "output_type": "stream",
     "text": [
      "{'000': 4, '100': 8, '101': 973, '010': 11, '111': 7, '001': 7, '011': 7, '110': 7}\n"
     ]
    },
    {
     "data": {
      "image/png": "[encoded data removed]",
      "text/plain": [
       "<Figure size 504x360 with 1 Axes>"
      ]
     },
     "execution_count": 6,
     "metadata": {},
     "output_type": "execute_result"
    }
   ],
   "source": [
    "def grover_flip(circ, qr, to_flip):\n",
    "    \"\"\"\n",
    "    Flip the amplitudes around the mean\n",
    "    :param circ: circuit\n",
    "    :param qr: quantum registers\n",
    "    :param to_flip: list of the registers carrying the values of the variables\n",
    "    :return:\n",
    "    \"\"\"\n",
    "    for qr_i in to_flip:\n",
    "        circ.h(qr_i)\n",
    "        circ.x(qr_i)\n",
    "    circ.h(to_flip[0])\n",
    "    cnx_o(circ, qr, to_flip[1:], to_flip[0], qr[0])\n",
    "    circ.h(to_flip[0])\n",
    "    for qr_i in to_flip:\n",
    "        circ.x(qr_i)\n",
    "        circ.h(qr_i)\n",
    "\n",
    "def ex_1_3sat_circuit(var_nb, clauses, nb_grover=-1):\n",
    "    \"\"\"\n",
    "    Builds the circuit associated with the SAT problem\n",
    "    :param var_nb: number of variables\n",
    "    :param clauses: list of the clauses\n",
    "    :param nb_grover: number of applications of grover's operator\n",
    "    :return: the circuit object, and the quantum registers\n",
    "    \"\"\"\n",
    "    nb_qbits = var_nb + len(clauses) + 1\n",
    "    qr = QuantumRegister(nb_qbits)\n",
    "    cr = ClassicalRegister(var_nb)\n",
    "    # convention : 0: lost, 1-var_nb : variables; var_nb+1-nb_qubits : clause results;\n",
    "    circ = QuantumCircuit(qr, cr)\n",
    "\n",
    "    # superposition of the states of the variables\n",
    "    for i in range(1, var_nb + 1):\n",
    "        circ.h(qr[i])\n",
    "\n",
    "    if nb_grover < 0: \n",
    "        # this is the theoretical optimal number of iterations\n",
    "        # although, in practical cases, it can be preferable to iterate on a lesser number so the program is shorter\n",
    "        nb_grover = ceil(sqrt(var_nb)*pi/4)\n",
    "\n",
    "    for _ in range(nb_grover):\n",
    "        oracle_3sat(circ, qr, clauses, var_nb)\n",
    "        grover_flip(circ, qr, [qr[i] for i in range(1, var_nb + 1)])\n",
    "\n",
    "    # mesure the variables at the end\n",
    "    for i in range(var_nb):\n",
    "        circ.measure(qr[i+1], cr[i])\n",
    "\n",
    "    return circ, qr\n",
    "\n",
    "def ex_1_3sat(var_nb, clauses, backend=None):\n",
    "    \"\"\"\n",
    "    Using Grover's algorithm, exhibit the solution of an Exclusive-1 SAT problem\n",
    "    :param var_nb: number of variables in the problem\n",
    "    :param clauses: list of clauses\n",
    "    (themselves lists of numbers, indicating the variables used in the clause with their index starting from 1,\n",
    "    being negative numbers if the variable is NOTed )\n",
    "    :param backend: backend to use to run the algorithm.\n",
    "    :return:\n",
    "    \"\"\"\n",
    "    circ, _ = ex_1_3sat_circuit(var_nb, clauses)\n",
    "    \n",
    "    if backend is None:\n",
    "        backend = BasicAer.get_backend(\"qasm_simulator\")\n",
    "    \n",
    "    job = execute(circ, backend=backend, shots=1024, max_credits=3)\n",
    "    res = job.result().get_counts()\n",
    "    #res = launch(circ, backend_type=backend, verbose=True, shots=10000)\n",
    "    print(res)\n",
    "    return res\n",
    "\n",
    "# the instance presented at the beginning\n",
    "res = ex_1_3sat(3, [[1, 2, -3], [-1, -2, -3], [-1, 2, 3]])\n",
    "plot_histogram(res)"
   ]
  },
  {
   "cell_type": "markdown",
   "metadata": {},
   "source": [
    "The previous example exhibits the result expected with very high probability on simulator. However, on the real devices, the circuit is too long to be executed, and results are almost random (to shorten the circuit, it is possible to iterate only once. According to the simulator, the results yield are mostly the same as with the optimal number of iterations, but the circuit is much shorter, but still too long).\n",
    "\n",
    "Note : the results are inverted with regards with the variables, ie the output states are $x_n x_{n-1} ... x_1$"
   ]
  },
  {
   "cell_type": "markdown",
   "metadata": {},
   "source": [
    "#### Card finding problem\n",
    "\n",
    "As a toy example, we want to find the card which satisfy a serie of clause conditions, in the fashion of the 1-Exclusive SAT problem.\n",
    "\n",
    "We have a set of 32 cards, whose colors are spade, club, diamond and heart. As in the belote game, these cards are 7, 8, 9, 10, J, Q, K, A. Since we want to find a way to describe these cards with (simple) logical operators, we decide of additionnal properties to caracterize them. First, the parity of the card, starting with the 7 (odd) up to the ace (even). And second, the value of the card if it was a trump suit card (which, in belote, can be separated between low values (7, 8, Q, K) and high values (10, A, 9, J)). It can seem far-stretched (because it is), but this facilitates the mapping, making explanations clearer. \n",
    "\n",
    "We thus have a way to describe any card with boolean caracteristics:\n",
    "* $x_1$: is the card black ?\n",
    "* $x_2$: is it either a club or a heart ? (depending on $x_1$)\n",
    "* $x_3$: is its symbol a letter ? (ie J, Q, K, A)\n",
    "* $x_4$: is its value high ? (ie 10, A, 9, J)\n",
    "* $x_5$: is it odd ?\n",
    "\n",
    "If we take as an example the 9 of spade, it will be encoded with $x_1 = 1$ (black), $x_2 = 0$ (spade), $x_3 = 0$ (9), $x_4 = 1$ (high value) and $x_5 = 1$ (odd), thus $10011$."
   ]
  },
  {
   "cell_type": "code",
   "execution_count": 7,
   "metadata": {},
   "outputs": [],
   "source": [
    "def condition_mapping(clauses):\n",
    "    conditions = [\"black\", \"either a club or a heart\", \"a letter\", \"of high value\", \"even\", \n",
    "                  \"odd\", \"of low value\", \"a number\", \"either a spade or a diamond\", \"red\"]\n",
    "\n",
    "    \n",
    "    text = \"We are looking for a card which is:\\n\"\n",
    "    \n",
    "    for clause in clauses:\n",
    "        text += \"- \"\n",
    "        for val in clause:\n",
    "            if val > 0:\n",
    "                val -= 1\n",
    "            text += conditions[val]\n",
    "            text += \", or \"\n",
    "        text = text[:-5]\n",
    "        text += \";\\n And \\n\"\n",
    "    return text[:-7]\n",
    "\n",
    "def convert_to_card(val):\n",
    "    color = int(val[:2], 2)\n",
    "    sign = int(val[2:], 2)\n",
    "    \n",
    "    colors = [\"diamonds\", \"hearts\", \"spades\", \"clubs\"]\n",
    "    signs = [\"8\", \"7\", \"10\", \"9\", \"Queen\", \"King\", \"Ace\", \"Jack\"]\n",
    "    \n",
    "    return signs[sign] + \" of \" + colors[color]\n",
    "    \n",
    "\n",
    "clauses = [[1, 2, -3], [-1, -2, -3], [-1, 2, 4], [2, 3, -5], [-1, 3, -4]]"
   ]
  },
  {
   "cell_type": "markdown",
   "metadata": {},
   "source": [
    "As an example, consider the following instance :\n",
    "\n",
    "$$\n",
    "(x_1 \\vee x_2 \\vee \\neg x_3) \n",
    "\\wedge ( \\neg x_1 \\vee \\neg x_2 \\vee \\neg x_3 )\n",
    "\\wedge ( \\neg x_1 \\vee x_2 \\vee x_4 )\n",
    "\\wedge ( x_2 \\vee x_3 \\vee \\neg x_5 )\n",
    "\\wedge ( \\neg x_1 \\vee x_3 \\vee \\neg x_4 )\n",
    "$$\n",
    "\n",
    "which we can now read as"
   ]
  },
  {
   "cell_type": "code",
   "execution_count": 8,
   "metadata": {},
   "outputs": [
    {
     "name": "stdout",
     "output_type": "stream",
     "text": [
      "We are looking for a card which is:\n",
      "- black, or either a club or a heart, or a number;\n",
      " And \n",
      "- red, or either a spade or a diamond, or a number;\n",
      " And \n",
      "- red, or either a club or a heart, or of high value;\n",
      " And \n",
      "- either a club or a heart, or a letter, or odd;\n",
      " And \n",
      "- red, or a letter, or of low value;\n"
     ]
    }
   ],
   "source": [
    "print(condition_mapping(clauses))"
   ]
  },
  {
   "cell_type": "markdown",
   "metadata": {},
   "source": [
    "If we now pass this to the Grover algorithm, it should give us the card satisfying this problem:"
   ]
  },
  {
   "cell_type": "code",
   "execution_count": 9,
   "metadata": {},
   "outputs": [
    {
     "name": "stdout",
     "output_type": "stream",
     "text": [
      "{'01101': 17, '01010': 18, '01011': 11, '00010': 9, '00110': 17, '11011': 19, '10001': 11, '01100': 17, '11110': 15, '00101': 18, '00001': 13, '10101': 12, '10010': 13, '10000': 19, '00000': 16, '11100': 12, '11010': 10, '01001': 20, '00111': 8, '11101': 597, '11000': 11, '10011': 17, '11111': 11, '01111': 16, '11001': 15, '10111': 8, '01000': 12, '00100': 9, '01110': 9, '00011': 17, '10100': 16, '10110': 11}\n",
      "The answer is the Jack of spades\n"
     ]
    },
    {
     "data": {
      "image/png": "[encoded data removed]",
      "text/plain": [
       "<Figure size 504x360 with 1 Axes>"
      ]
     },
     "execution_count": 9,
     "metadata": {},
     "output_type": "execute_result"
    }
   ],
   "source": [
    "res = ex_1_3sat(5, clauses)\n",
    "sol = max(res, key=lambda x: res[x])\n",
    "sol = sol[::-1]\n",
    "# answers are given in reverse order with regard to general convention\n",
    "print(\"The answer is the \" + convert_to_card(sol))\n",
    "plot_histogram(res)\n"
   ]
  },
  {
   "cell_type": "markdown",
   "metadata": {},
   "source": [
    "#### Appendix\n",
    "\n",
    "This is a quick proof of the correctness of the design of the clause operator. What we need to prove is that an odd number of NOT gates is applied to the target qubit if and only if exactly one of the variable in the clause is True, and thus that this qubit is set to 1 only in this case.\n",
    "\n",
    "Let $l$ be the number of variables set to True, ie the number of qubits whose value after the X gates is one (of course, we are speaking in terms of pure states, but it works similarly for superposed states, as usual), $p$ the number of variables in the clause (3 in a 3SAT problem).\n",
    "\n",
    "Then, for the sequence of $(2i+1)$qubits-Controlled-NOT (every possibility over the $p$ qubits), there will be ${l \\choose {2i+1}}$ NOT applied to the target qubit.\n",
    "\n",
    "Thus, if $l=2r + 1$, the total number of NOT applied will be\n",
    "\n",
    "$$ \\sum_{i=0}^r {{2r+1} \\choose {2i+1}} = \\sum_{i=0}^r {{2r+1} \\choose {i}} = \\frac{1}{2}\\sum_{i=0}^{2r+1} {{2r+1} \\choose {i}} = 2^{2r}$$\n",
    "\n",
    "which is even, except if $r = 0$, ie $l = 1$.\n",
    "\n",
    "If $l = 2r$, we have\n",
    "\n",
    "$$ \\sum_{i=0}^r {{2r} \\choose {2i+1}} = \\sum_{i=0}^{r/2 - 1} {{2r+1} \\choose {2i+1}} + \\sum_{i=r/2 + 1}^r {{2r+1} \\choose {2i+1}} + \\alpha_r = 2\\sum_{i=0}^{r/2 - 1} {{2r+1} \\choose {2i+1}} + \\alpha_r$$\n",
    "\n",
    "with $\\alpha_r = {{2r} \\choose r}$ if $r$ is even, $0$ if it is odd. Yet $ \\alpha_r = {{2r} \\choose r} = {{2r - 1} \\choose r} + {{2r - 1} \\choose {r - 1}} = 2{{2r-1} \\choose r}$ is even. Thus, in every case, the number of NOT will be even if $l$ is even.\n",
    "\n",
    "Thus this clause operator will behave as expected. "
   ]
  },
  {
   "cell_type": "code",
   "execution_count": null,
   "metadata": {},
   "outputs": [],
   "source": []
  }
 ],
 "metadata": {
  "kernelspec": {
   "display_name": "Python 3",
   "language": "python",
   "name": "python3"
  },
  "language_info": {
   "codemirror_mode": {
    "name": "ipython",
    "version": 3
   },
   "file_extension": ".py",
   "mimetype": "text/x-python",
   "name": "python",
   "nbconvert_exporter": "python",
   "pygments_lexer": "ipython3",
   "version": "3.7.2"
  }
 },
 "nbformat": 4,
 "nbformat_minor": 2
}
